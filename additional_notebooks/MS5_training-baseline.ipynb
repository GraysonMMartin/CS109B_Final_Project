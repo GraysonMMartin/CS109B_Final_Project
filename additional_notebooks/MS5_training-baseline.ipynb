{
 "cells": [
  {
   "cell_type": "code",
   "execution_count": 1,
   "id": "4d853479-edb1-4558-b27c-7a006d145905",
   "metadata": {
    "id": "4d853479-edb1-4558-b27c-7a006d145905",
    "outputId": "1b3431a2-a97c-41dd-a5ef-8c09ea9bc76a"
   },
   "outputs": [
    {
     "name": "stderr",
     "output_type": "stream",
     "text": [
      "2024-05-03 16:49:13.828807: I tensorflow/core/util/port.cc:113] oneDNN custom operations are on. You may see slightly different numerical results due to floating-point round-off errors from different computation orders. To turn them off, set the environment variable `TF_ENABLE_ONEDNN_OPTS=0`.\n",
      "2024-05-03 16:49:13.876084: E external/local_xla/xla/stream_executor/cuda/cuda_dnn.cc:9261] Unable to register cuDNN factory: Attempting to register factory for plugin cuDNN when one has already been registered\n",
      "2024-05-03 16:49:13.876117: E external/local_xla/xla/stream_executor/cuda/cuda_fft.cc:607] Unable to register cuFFT factory: Attempting to register factory for plugin cuFFT when one has already been registered\n",
      "2024-05-03 16:49:13.877281: E external/local_xla/xla/stream_executor/cuda/cuda_blas.cc:1515] Unable to register cuBLAS factory: Attempting to register factory for plugin cuBLAS when one has already been registered\n",
      "2024-05-03 16:49:13.884569: I tensorflow/core/platform/cpu_feature_guard.cc:182] This TensorFlow binary is optimized to use available CPU instructions in performance-critical operations.\n",
      "To enable the following instructions: AVX2 AVX512F AVX512_VNNI FMA, in other operations, rebuild TensorFlow with the appropriate compiler flags.\n",
      "/opt/conda/lib/python3.11/site-packages/tensorflow_addons/utils/tfa_eol_msg.py:23: UserWarning: \n",
      "\n",
      "TensorFlow Addons (TFA) has ended development and introduction of new features.\n",
      "TFA has entered a minimal maintenance and release mode until a planned end of life in May 2024.\n",
      "Please modify downstream libraries to take dependencies from other repositories in our TensorFlow community (e.g. Keras, Keras-CV, and Keras-NLP). \n",
      "\n",
      "For more information see: https://github.com/tensorflow/addons/issues/2807 \n",
      "\n",
      "  warnings.warn(\n"
     ]
    }
   ],
   "source": [
    "import os\n",
    "import pathlib\n",
    "import time\n",
    "import zipfile\n",
    "import tarfile\n",
    "\n",
    "import imageio\n",
    "from matplotlib import cm\n",
    "import matplotlib.pyplot as plt\n",
    "import numpy as np\n",
    "import pickle\n",
    "import time\n",
    "from PIL import Image\n",
    "import requests\n",
    "import scipy.ndimage as ndimage\n",
    "import tensorflow as tf\n",
    "import tensorflow_addons as tfa\n",
    "import tensorflow_datasets as tfds\n",
    "from tensorflow.keras.datasets import cifar10\n",
    "from tensorflow.keras.models import Sequential, Model\n",
    "from tensorflow.keras.layers import Activation, BatchNormalization\n",
    "from tensorflow.keras.layers import Conv2D, Dense, Dropout, GaussianNoise\n",
    "from tensorflow.keras.layers import Flatten, Input, MaxPooling2D, LeakyReLU\n",
    "from tensorflow.keras.optimizers import Adam, SGD\n",
    "from tensorflow.keras.regularizers import L1, L2\n",
    "from tensorflow.keras.callbacks import EarlyStopping, LambdaCallback, ModelCheckpoint\n",
    "from tensorflow.keras.utils import to_categorical\n",
    "from tf_keras_vis.gradcam import Gradcam\n",
    "from tf_keras_vis.saliency import Saliency\n",
    "from tf_keras_vis.utils import normalize\n",
    "import tqdm\n",
    "from sklearn.model_selection import train_test_split\n",
    "import pandas as pd"
   ]
  },
  {
   "cell_type": "code",
   "execution_count": 2,
   "id": "17849245-6935-4db8-b022-74a2b4acb53b",
   "metadata": {
    "scrolled": true
   },
   "outputs": [],
   "source": [
    "#!unzip -o ./tf_data.zip;\n"
   ]
  },
  {
   "cell_type": "code",
   "execution_count": 3,
   "id": "dd10f3c1-d55b-40af-82fe-556bc74047a9",
   "metadata": {
    "id": "dd10f3c1-d55b-40af-82fe-556bc74047a9"
   },
   "outputs": [],
   "source": [
    "working_dir = pathlib.Path().absolute()\n",
    "# Uncomment line below to debug if images don't show\n",
    "#print(working_dir)\n",
    "os.chdir(working_dir)\n"
   ]
  },
  {
   "cell_type": "code",
   "execution_count": 4,
   "id": "2363559a-d489-4fe7-9a61-682c162150fe",
   "metadata": {
    "id": "2363559a-d489-4fe7-9a61-682c162150fe",
    "outputId": "b988c8fa-348c-4d5b-af27-8a173a1f3655"
   },
   "outputs": [
    {
     "name": "stdout",
     "output_type": "stream",
     "text": [
      "tensorflow version 2.15.0\n",
      "Eager Execution Enabled: True\n",
      "\n",
      "All Devices: \n",
      "[PhysicalDevice(name='/physical_device:CPU:0', device_type='CPU'), PhysicalDevice(name='/physical_device:GPU:0', device_type='GPU')]\n",
      "\n",
      "Available GPUs: \n",
      "[LogicalDevice(name='/device:GPU:0', device_type='GPU')]\n",
      "\n"
     ]
    },
    {
     "name": "stderr",
     "output_type": "stream",
     "text": [
      "2024-05-03 16:49:17.044443: I external/local_xla/xla/stream_executor/cuda/cuda_executor.cc:901] successful NUMA node read from SysFS had negative value (-1), but there must be at least one NUMA node, so returning NUMA node zero. See more at https://github.com/torvalds/linux/blob/v6.0/Documentation/ABI/testing/sysfs-bus-pci#L344-L355\n",
      "2024-05-03 16:49:17.054289: I external/local_xla/xla/stream_executor/cuda/cuda_executor.cc:901] successful NUMA node read from SysFS had negative value (-1), but there must be at least one NUMA node, so returning NUMA node zero. See more at https://github.com/torvalds/linux/blob/v6.0/Documentation/ABI/testing/sysfs-bus-pci#L344-L355\n",
      "2024-05-03 16:49:17.057264: I external/local_xla/xla/stream_executor/cuda/cuda_executor.cc:901] successful NUMA node read from SysFS had negative value (-1), but there must be at least one NUMA node, so returning NUMA node zero. See more at https://github.com/torvalds/linux/blob/v6.0/Documentation/ABI/testing/sysfs-bus-pci#L344-L355\n",
      "2024-05-03 16:49:17.061164: I external/local_xla/xla/stream_executor/cuda/cuda_executor.cc:901] successful NUMA node read from SysFS had negative value (-1), but there must be at least one NUMA node, so returning NUMA node zero. See more at https://github.com/torvalds/linux/blob/v6.0/Documentation/ABI/testing/sysfs-bus-pci#L344-L355\n",
      "2024-05-03 16:49:17.064131: I external/local_xla/xla/stream_executor/cuda/cuda_executor.cc:901] successful NUMA node read from SysFS had negative value (-1), but there must be at least one NUMA node, so returning NUMA node zero. See more at https://github.com/torvalds/linux/blob/v6.0/Documentation/ABI/testing/sysfs-bus-pci#L344-L355\n",
      "2024-05-03 16:49:17.066911: I external/local_xla/xla/stream_executor/cuda/cuda_executor.cc:901] successful NUMA node read from SysFS had negative value (-1), but there must be at least one NUMA node, so returning NUMA node zero. See more at https://github.com/torvalds/linux/blob/v6.0/Documentation/ABI/testing/sysfs-bus-pci#L344-L355\n",
      "2024-05-03 16:49:17.268901: I external/local_xla/xla/stream_executor/cuda/cuda_executor.cc:901] successful NUMA node read from SysFS had negative value (-1), but there must be at least one NUMA node, so returning NUMA node zero. See more at https://github.com/torvalds/linux/blob/v6.0/Documentation/ABI/testing/sysfs-bus-pci#L344-L355\n",
      "2024-05-03 16:49:17.270784: I external/local_xla/xla/stream_executor/cuda/cuda_executor.cc:901] successful NUMA node read from SysFS had negative value (-1), but there must be at least one NUMA node, so returning NUMA node zero. See more at https://github.com/torvalds/linux/blob/v6.0/Documentation/ABI/testing/sysfs-bus-pci#L344-L355\n",
      "2024-05-03 16:49:17.272517: I external/local_xla/xla/stream_executor/cuda/cuda_executor.cc:901] successful NUMA node read from SysFS had negative value (-1), but there must be at least one NUMA node, so returning NUMA node zero. See more at https://github.com/torvalds/linux/blob/v6.0/Documentation/ABI/testing/sysfs-bus-pci#L344-L355\n",
      "2024-05-03 16:49:17.274222: I tensorflow/core/common_runtime/gpu/gpu_device.cc:1929] Created device /job:localhost/replica:0/task:0/device:GPU:0 with 13775 MB memory:  -> device: 0, name: Tesla T4, pci bus id: 0000:00:1e.0, compute capability: 7.5\n"
     ]
    }
   ],
   "source": [
    "# RUN THIS CELL\n",
    "\n",
    "# Enable/Disable Eager Execution\n",
    "# Reference: https://www.tensorflow.org/guide/eager\n",
    "# TensorFlow's eager execution is an imperative programming environment\n",
    "# that evaluates operations immediately, without building graphs\n",
    "\n",
    "print(f\"tensorflow version {tf.__version__}\")\n",
    "print(f\"Eager Execution Enabled: {tf.executing_eagerly()}\\n\")\n",
    "\n",
    "devices = tf.config.get_visible_devices()\n",
    "print(f\"All Devices: \\n{devices}\\n\")\n",
    "print(f\"Available GPUs: \\n{tf.config.list_logical_devices('GPU')}\\n\")\n",
    "\n",
    "# Better performance with the tf.data API\n",
    "# Reference: https://www.tensorflow.org/guide/data_performance\n",
    "AUTOTUNE = tf.data.AUTOTUNE\n",
    "\n",
    "tf.random.set_seed(2266)"
   ]
  },
  {
   "cell_type": "code",
   "execution_count": 5,
   "id": "56e370f2-ba73-4c22-b522-3907adc9a6c1",
   "metadata": {},
   "outputs": [
    {
     "data": {
      "text/html": [
       "<div>\n",
       "<style scoped>\n",
       "    .dataframe tbody tr th:only-of-type {\n",
       "        vertical-align: middle;\n",
       "    }\n",
       "\n",
       "    .dataframe tbody tr th {\n",
       "        vertical-align: top;\n",
       "    }\n",
       "\n",
       "    .dataframe thead th {\n",
       "        text-align: right;\n",
       "    }\n",
       "</style>\n",
       "<table border=\"1\" class=\"dataframe\">\n",
       "  <thead>\n",
       "    <tr style=\"text-align: right;\">\n",
       "      <th></th>\n",
       "      <th>Unnamed: 0</th>\n",
       "      <th>gbifID</th>\n",
       "      <th>references</th>\n",
       "      <th>basisOfRecord</th>\n",
       "      <th>sex</th>\n",
       "      <th>lifeStage</th>\n",
       "      <th>behavior</th>\n",
       "      <th>eventTime</th>\n",
       "      <th>month</th>\n",
       "      <th>continent</th>\n",
       "      <th>countryCode</th>\n",
       "      <th>verbatimElevation</th>\n",
       "      <th>decimalLatitude</th>\n",
       "      <th>decimalLongitude</th>\n",
       "      <th>mediaType</th>\n",
       "      <th>genus</th>\n",
       "      <th>species</th>\n",
       "    </tr>\n",
       "    <tr>\n",
       "      <th>catalogNumber</th>\n",
       "      <th></th>\n",
       "      <th></th>\n",
       "      <th></th>\n",
       "      <th></th>\n",
       "      <th></th>\n",
       "      <th></th>\n",
       "      <th></th>\n",
       "      <th></th>\n",
       "      <th></th>\n",
       "      <th></th>\n",
       "      <th></th>\n",
       "      <th></th>\n",
       "      <th></th>\n",
       "      <th></th>\n",
       "      <th></th>\n",
       "      <th></th>\n",
       "      <th></th>\n",
       "    </tr>\n",
       "  </thead>\n",
       "  <tbody>\n",
       "    <tr>\n",
       "      <th>XC361568</th>\n",
       "      <td>117</td>\n",
       "      <td>2243757996</td>\n",
       "      <td>https://data.biodiversitydata.nl/xeno-canto/ob...</td>\n",
       "      <td>HUMAN_OBSERVATION</td>\n",
       "      <td>NaN</td>\n",
       "      <td>NaN</td>\n",
       "      <td>flight call</td>\n",
       "      <td>6:07:00 PM</td>\n",
       "      <td>3.0</td>\n",
       "      <td>EUROPE</td>\n",
       "      <td>DE</td>\n",
       "      <td>260 m</td>\n",
       "      <td>48.9870</td>\n",
       "      <td>9.0108</td>\n",
       "      <td>Sound;StillImage;StillImage</td>\n",
       "      <td>Loxia</td>\n",
       "      <td>Loxia curvirostra</td>\n",
       "    </tr>\n",
       "    <tr>\n",
       "      <th>XC361676</th>\n",
       "      <td>122</td>\n",
       "      <td>2243757192</td>\n",
       "      <td>https://data.biodiversitydata.nl/xeno-canto/ob...</td>\n",
       "      <td>HUMAN_OBSERVATION</td>\n",
       "      <td>NaN</td>\n",
       "      <td>NaN</td>\n",
       "      <td>call</td>\n",
       "      <td>5:30:00 PM</td>\n",
       "      <td>3.0</td>\n",
       "      <td>EUROPE</td>\n",
       "      <td>GR</td>\n",
       "      <td>40 m</td>\n",
       "      <td>36.8217</td>\n",
       "      <td>21.9273</td>\n",
       "      <td>StillImage;StillImage;Sound</td>\n",
       "      <td>Sylvia</td>\n",
       "      <td>Sylvia atricapilla</td>\n",
       "    </tr>\n",
       "    <tr>\n",
       "      <th>XC361991</th>\n",
       "      <td>137</td>\n",
       "      <td>3909408313</td>\n",
       "      <td>https://data.biodiversitydata.nl/xeno-canto/ob...</td>\n",
       "      <td>HUMAN_OBSERVATION</td>\n",
       "      <td>NaN</td>\n",
       "      <td>NaN</td>\n",
       "      <td>call</td>\n",
       "      <td>10:00:00 AM</td>\n",
       "      <td>3.0</td>\n",
       "      <td>EUROPE</td>\n",
       "      <td>NL</td>\n",
       "      <td>0 m</td>\n",
       "      <td>52.3568</td>\n",
       "      <td>4.5675</td>\n",
       "      <td>StillImage;StillImage;Sound</td>\n",
       "      <td>Fringilla</td>\n",
       "      <td>Fringilla coelebs</td>\n",
       "    </tr>\n",
       "    <tr>\n",
       "      <th>XC362620</th>\n",
       "      <td>162</td>\n",
       "      <td>2243759376</td>\n",
       "      <td>https://data.biodiversitydata.nl/xeno-canto/ob...</td>\n",
       "      <td>HUMAN_OBSERVATION</td>\n",
       "      <td>NaN</td>\n",
       "      <td>NaN</td>\n",
       "      <td>call, sweeoo call</td>\n",
       "      <td>2:27:00 PM</td>\n",
       "      <td>4.0</td>\n",
       "      <td>EUROPE</td>\n",
       "      <td>DE</td>\n",
       "      <td>300 m</td>\n",
       "      <td>49.0102</td>\n",
       "      <td>8.8949</td>\n",
       "      <td>Sound;StillImage;StillImage</td>\n",
       "      <td>Phylloscopus</td>\n",
       "      <td>Phylloscopus collybita</td>\n",
       "    </tr>\n",
       "    <tr>\n",
       "      <th>XC363724</th>\n",
       "      <td>205</td>\n",
       "      <td>2243761271</td>\n",
       "      <td>https://data.biodiversitydata.nl/xeno-canto/ob...</td>\n",
       "      <td>HUMAN_OBSERVATION</td>\n",
       "      <td>NaN</td>\n",
       "      <td>NaN</td>\n",
       "      <td>call, imitation</td>\n",
       "      <td>7:30:00 AM</td>\n",
       "      <td>4.0</td>\n",
       "      <td>EUROPE</td>\n",
       "      <td>PL</td>\n",
       "      <td>160 m</td>\n",
       "      <td>53.1490</td>\n",
       "      <td>20.2591</td>\n",
       "      <td>Sound;StillImage;StillImage</td>\n",
       "      <td>Parus</td>\n",
       "      <td>Parus major</td>\n",
       "    </tr>\n",
       "  </tbody>\n",
       "</table>\n",
       "</div>"
      ],
      "text/plain": [
       "               Unnamed: 0      gbifID  \\\n",
       "catalogNumber                           \n",
       "XC361568              117  2243757996   \n",
       "XC361676              122  2243757192   \n",
       "XC361991              137  3909408313   \n",
       "XC362620              162  2243759376   \n",
       "XC363724              205  2243761271   \n",
       "\n",
       "                                                      references  \\\n",
       "catalogNumber                                                      \n",
       "XC361568       https://data.biodiversitydata.nl/xeno-canto/ob...   \n",
       "XC361676       https://data.biodiversitydata.nl/xeno-canto/ob...   \n",
       "XC361991       https://data.biodiversitydata.nl/xeno-canto/ob...   \n",
       "XC362620       https://data.biodiversitydata.nl/xeno-canto/ob...   \n",
       "XC363724       https://data.biodiversitydata.nl/xeno-canto/ob...   \n",
       "\n",
       "                   basisOfRecord  sex lifeStage           behavior  \\\n",
       "catalogNumber                                                        \n",
       "XC361568       HUMAN_OBSERVATION  NaN       NaN        flight call   \n",
       "XC361676       HUMAN_OBSERVATION  NaN       NaN               call   \n",
       "XC361991       HUMAN_OBSERVATION  NaN       NaN               call   \n",
       "XC362620       HUMAN_OBSERVATION  NaN       NaN  call, sweeoo call   \n",
       "XC363724       HUMAN_OBSERVATION  NaN       NaN    call, imitation   \n",
       "\n",
       "                 eventTime  month continent countryCode verbatimElevation  \\\n",
       "catalogNumber                                                               \n",
       "XC361568        6:07:00 PM    3.0    EUROPE          DE             260 m   \n",
       "XC361676        5:30:00 PM    3.0    EUROPE          GR              40 m   \n",
       "XC361991       10:00:00 AM    3.0    EUROPE          NL               0 m   \n",
       "XC362620        2:27:00 PM    4.0    EUROPE          DE             300 m   \n",
       "XC363724        7:30:00 AM    4.0    EUROPE          PL             160 m   \n",
       "\n",
       "               decimalLatitude  decimalLongitude                    mediaType  \\\n",
       "catalogNumber                                                                   \n",
       "XC361568               48.9870            9.0108  Sound;StillImage;StillImage   \n",
       "XC361676               36.8217           21.9273  StillImage;StillImage;Sound   \n",
       "XC361991               52.3568            4.5675  StillImage;StillImage;Sound   \n",
       "XC362620               49.0102            8.8949  Sound;StillImage;StillImage   \n",
       "XC363724               53.1490           20.2591  Sound;StillImage;StillImage   \n",
       "\n",
       "                      genus                 species  \n",
       "catalogNumber                                        \n",
       "XC361568              Loxia       Loxia curvirostra  \n",
       "XC361676             Sylvia      Sylvia atricapilla  \n",
       "XC361991          Fringilla       Fringilla coelebs  \n",
       "XC362620       Phylloscopus  Phylloscopus collybita  \n",
       "XC363724              Parus             Parus major  "
      ]
     },
     "execution_count": 5,
     "metadata": {},
     "output_type": "execute_result"
    }
   ],
   "source": [
    "df = pd.read_csv('data/undersampled_top_10.csv')\n",
    "X = []\n",
    "y = []\n",
    "df_efficient = df.set_index('catalogNumber')\n",
    "df_efficient.head(5)"
   ]
  },
  {
   "cell_type": "code",
   "execution_count": null,
   "id": "a1fdc3e1-498b-46a1-bd0e-bf71e8637b95",
   "metadata": {},
   "outputs": [],
   "source": [
    "test_dataset = tf.data.Dataset.load('tf_data/test_data')\n",
    "train_dataset = tf.data.Dataset.load('tf_data/train_data')\n",
    "val_dataset = tf.data.Dataset.load('tf_data/validation_data')"
   ]
  },
  {
   "cell_type": "code",
   "execution_count": 7,
   "id": "b49729a3-05e9-48ab-8440-67c3f4aad348",
   "metadata": {
    "id": "b49729a3-05e9-48ab-8440-67c3f4aad348"
   },
   "outputs": [],
   "source": [
    "def normalize_image(img):\n",
    "    return tf.cast(img, tf.float32)/255.\n",
    "\n",
    "def preprocess(img, label):\n",
    "    return normalize_image(img), label\n",
    "\n",
    "train_dataset = train_dataset.map(preprocess).batch(32).prefetch(tf.data.experimental.AUTOTUNE)\n",
    "val_dataset = val_dataset.map(preprocess).batch(32).prefetch(tf.data.experimental.AUTOTUNE)\n",
    "test_dataset = test_dataset.map(preprocess).batch(32).prefetch(tf.data.experimental.AUTOTUNE)"
   ]
  },
  {
   "cell_type": "markdown",
   "id": "7018ed97",
   "metadata": {},
   "source": [
    "We first normalize each image by setting each pixel value to between 0 and 1, and then batch the data into batches of size 32."
   ]
  },
  {
   "cell_type": "code",
   "execution_count": 8,
   "id": "e49a5dca-e56d-4383-b511-de3a8e86c950",
   "metadata": {
    "id": "e49a5dca-e56d-4383-b511-de3a8e86c950",
    "outputId": "08b6740b-bab7-45c8-a91c-90a0465a6674"
   },
   "outputs": [
    {
     "name": "stdout",
     "output_type": "stream",
     "text": [
      "Model: \"sequential\"\n",
      "_________________________________________________________________\n",
      " Layer (type)                Output Shape              Param #   \n",
      "=================================================================\n",
      " conv2d (Conv2D)             (None, 128, 431, 80)      61520     \n",
      "                                                                 \n",
      " leaky_re_lu (LeakyReLU)     (None, 128, 431, 80)      0         \n",
      "                                                                 \n",
      " max_pooling2d (MaxPooling2  (None, 32, 71, 80)        0         \n",
      " D)                                                              \n",
      "                                                                 \n",
      " conv2d_1 (Conv2D)           (None, 32, 71, 160)       25760     \n",
      "                                                                 \n",
      " leaky_re_lu_1 (LeakyReLU)   (None, 32, 71, 160)       0         \n",
      "                                                                 \n",
      " max_pooling2d_1 (MaxPoolin  (None, 32, 35, 160)       0         \n",
      " g2D)                                                            \n",
      "                                                                 \n",
      " conv2d_2 (Conv2D)           (None, 32, 35, 240)       77040     \n",
      "                                                                 \n",
      " leaky_re_lu_2 (LeakyReLU)   (None, 32, 35, 240)       0         \n",
      "                                                                 \n",
      " max_pooling2d_2 (MaxPoolin  (None, 32, 17, 240)       0         \n",
      " g2D)                                                            \n",
      "                                                                 \n",
      " conv2d_3 (Conv2D)           (None, 32, 17, 320)       153920    \n",
      "                                                                 \n",
      " leaky_re_lu_3 (LeakyReLU)   (None, 32, 17, 320)       0         \n",
      "                                                                 \n",
      " max_pooling2d_3 (MaxPoolin  (None, 32, 8, 320)        0         \n",
      " g2D)                                                            \n",
      "                                                                 \n",
      " flatten (Flatten)           (None, 81920)             0         \n",
      "                                                                 \n",
      " dropout (Dropout)           (None, 81920)             0         \n",
      "                                                                 \n",
      " dense (Dense)               (None, 10)                819210    \n",
      "                                                                 \n",
      "=================================================================\n",
      "Total params: 1137450 (4.34 MB)\n",
      "Trainable params: 1137450 (4.34 MB)\n",
      "Non-trainable params: 0 (0.00 Byte)\n",
      "_________________________________________________________________\n"
     ]
    }
   ],
   "source": [
    "Piczak_model_2 = Sequential([\n",
    "    # First convolutional layer with 80 filters\n",
    "    Conv2D(80, kernel_size=(128, 6), padding='same', input_shape=(128, 431, 1)),\n",
    "    LeakyReLU(alpha=0.3),\n",
    "\n",
    "    # Max pooling\n",
    "    MaxPooling2D(pool_size=(4, 6)),\n",
    "\n",
    "    # Second convolutional layer with 160 filters\n",
    "    Conv2D(160, kernel_size=(1, 2), padding='same'),\n",
    "    LeakyReLU(alpha=0.3),\n",
    "\n",
    "    # Max pooling\n",
    "    MaxPooling2D(pool_size=(1, 2)),\n",
    "\n",
    "    # Continue the pattern...\n",
    "    Conv2D(240, kernel_size=(1, 2), padding='same'),\n",
    "    LeakyReLU(alpha=0.3),\n",
    "    MaxPooling2D(pool_size=(1, 2)),\n",
    "\n",
    "    Conv2D(320, kernel_size=(1, 2), padding='same'),\n",
    "    LeakyReLU(alpha=0.3),\n",
    "    MaxPooling2D(pool_size=(1, 2)),\n",
    "\n",
    "    # Flatten the output of the conv layers to connect it with dense layers\n",
    "    Flatten(),\n",
    "\n",
    "    # Dropout layer\n",
    "    Dropout(0.5),\n",
    "\n",
    "    # Output layer with softmax activation\n",
    "    Dense(10, activation='softmax', kernel_regularizer=L2(0.001))\n",
    "])\n",
    "\n",
    "Piczak_model_2.summary()"
   ]
  },
  {
   "cell_type": "markdown",
   "id": "a05e67a7",
   "metadata": {},
   "source": [
    "We use a similar CNN model to the one defined by [Piczak](https://ceur-ws.org/Vol-1609/16090534.pdf). The initial CNN layer has a kernel size that is the height of the input image; this is because the image is not invariant vertically, as higher locations in the image mean higher frequencies. Thus, the kernel is only allowed to move left and right; in essence, audio data is time invariant (we would expect a sound that occurs later to be the same as a sound that occurs earlier), but it is not frequency invariant. We made the CNN deep so that it would learn more complex features, which we expect to be necessary for processing something as complicated as an audio spectrogram. The dropout layer before the final classification output is to avoid overfitting."
   ]
  },
  {
   "cell_type": "code",
   "execution_count": 9,
   "id": "3fa667e5-cae7-4204-ba24-c1677287ec17",
   "metadata": {
    "id": "3fa667e5-cae7-4204-ba24-c1677287ec17",
    "outputId": "99ecfa49-f431-4920-9add-7c307c8a4ab5"
   },
   "outputs": [
    {
     "name": "stdout",
     "output_type": "stream",
     "text": [
      "Epoch 1/20\n"
     ]
    },
    {
     "name": "stderr",
     "output_type": "stream",
     "text": [
      "2024-05-03 16:49:19.753134: I external/local_xla/xla/stream_executor/cuda/cuda_dnn.cc:454] Loaded cuDNN version 8906\n",
      "2024-05-03 16:49:20.031054: I external/local_tsl/tsl/platform/default/subprocess.cc:304] Start cannot spawn child process: No such file or directory\n",
      "2024-05-03 16:49:21.517651: I external/local_tsl/tsl/platform/default/subprocess.cc:304] Start cannot spawn child process: No such file or directory\n",
      "2024-05-03 16:49:22.161494: I external/local_xla/xla/service/service.cc:168] XLA service 0x7fe6b46d9cc0 initialized for platform CUDA (this does not guarantee that XLA will be used). Devices:\n",
      "2024-05-03 16:49:22.161543: I external/local_xla/xla/service/service.cc:176]   StreamExecutor device (0): Tesla T4, Compute Capability 7.5\n",
      "2024-05-03 16:49:22.167602: I tensorflow/compiler/mlir/tensorflow/utils/dump_mlir_util.cc:269] disabling MLIR crash reproducer, set env var `MLIR_CRASH_REPRODUCER_DIRECTORY` to enable.\n",
      "WARNING: All log messages before absl::InitializeLog() is called are written to STDERR\n",
      "I0000 00:00:1714754962.273979     789 device_compiler.h:186] Compiled cluster using XLA!  This line is logged at most once for the lifetime of the process.\n"
     ]
    },
    {
     "name": "stdout",
     "output_type": "stream",
     "text": [
      "2303/2303 [==============================] - 592s 254ms/step - loss: 1.3604 - accuracy: 0.6174 - val_loss: 1.1324 - val_accuracy: 0.7257\n",
      "Epoch 2/20\n",
      "2303/2303 [==============================] - 584s 254ms/step - loss: 1.1134 - accuracy: 0.7395 - val_loss: 1.0411 - val_accuracy: 0.7679\n",
      "Epoch 3/20\n",
      "2303/2303 [==============================] - 585s 254ms/step - loss: 1.0542 - accuracy: 0.7677 - val_loss: 1.0024 - val_accuracy: 0.7930\n",
      "Epoch 4/20\n",
      "2303/2303 [==============================] - 586s 255ms/step - loss: 1.0336 - accuracy: 0.7805 - val_loss: 0.9880 - val_accuracy: 0.8041\n",
      "Epoch 5/20\n",
      "2303/2303 [==============================] - 586s 254ms/step - loss: 1.0229 - accuracy: 0.7902 - val_loss: 0.9927 - val_accuracy: 0.8105\n",
      "Epoch 6/20\n",
      "2303/2303 [==============================] - 586s 254ms/step - loss: 1.0060 - accuracy: 0.8008 - val_loss: 0.9926 - val_accuracy: 0.8133\n",
      "Epoch 7/20\n",
      "2303/2303 [==============================] - 588s 255ms/step - loss: 1.0051 - accuracy: 0.8068 - val_loss: 1.0452 - val_accuracy: 0.8063\n"
     ]
    }
   ],
   "source": [
    "Piczak_model_2.compile(optimizer='adam', loss='categorical_crossentropy', metrics=['accuracy'])\n",
    "es = EarlyStopping(monitor=\"val_loss\", patience=3)\n",
    "history = Piczak_model_2.fit(train_dataset, epochs=20, validation_data = val_dataset, callbacks=[es])\n"
   ]
  },
  {
   "cell_type": "code",
   "execution_count": 10,
   "id": "1ecf8f78-3221-4bfd-92f8-e17fba6a302a",
   "metadata": {},
   "outputs": [],
   "source": [
    "Piczak_model_2.save_weights('baseline.h5')\n",
    "with open('baseline_history', 'wb') as file_pi:\n",
    "    pickle.dump(history, file_pi)"
   ]
  },
  {
   "cell_type": "code",
   "execution_count": 11,
   "id": "3f646fe6-d976-4fdf-9b4e-80d1dee6d527",
   "metadata": {
    "id": "3f646fe6-d976-4fdf-9b4e-80d1dee6d527"
   },
   "outputs": [],
   "source": [
    "def plot_hist(model, title=None):\n",
    "    fig, axs = plt.subplots(1,2, figsize=(12,5))\n",
    "    axs[0].plot(model.history['loss'], label='train')\n",
    "    axs[0].plot(model.history['val_loss'], label='val')\n",
    "    axs[0].set_xlabel('Epoch')\n",
    "    axs[0].set_ylabel('CE Loss')\n",
    "    axs[0].set_title('Loss')\n",
    "    axs[0].legend()\n",
    "    axs[1].plot(model.history['accuracy'], label='train')\n",
    "    axs[1].plot(model.history['val_accuracy'], label='val')\n",
    "    axs[1].set_title('Accuracy')\n",
    "    axs[1].legend()\n",
    "    axs[1].set_xlabel('Epoch')\n",
    "    axs[1].set_ylabel('ACC')\n",
    "    plt.suptitle(title)"
   ]
  },
  {
   "cell_type": "code",
   "execution_count": 12,
   "id": "be88462c-806c-4eeb-bd7c-c618ffe3991d",
   "metadata": {
    "id": "be88462c-806c-4eeb-bd7c-c618ffe3991d",
    "outputId": "2793d787-77aa-44f9-a82e-16c8f098e6c5"
   },
   "outputs": [
    {
     "data": {
      "image/png": "[encoded data removed]",
      "text/plain": [
       "<Figure size 1200x500 with 2 Axes>"
      ]
     },
     "metadata": {},
     "output_type": "display_data"
    }
   ],
   "source": [
    "plot_hist(history)"
   ]
  },
  {
   "cell_type": "markdown",
   "id": "399e3093",
   "metadata": {},
   "source": [
    "The history shows that after epoch 3, we are likely overfitting. The early stopping callback ensures that our model weights are restored to the weights after epoch 3. Our validation accuracy hovers around 0.8."
   ]
  },
  {
   "cell_type": "code",
   "execution_count": 13,
   "id": "53a679fc-92fd-43d5-aaa4-51b93ea29c1e",
   "metadata": {
    "id": "53a679fc-92fd-43d5-aaa4-51b93ea29c1e",
    "outputId": "762a2904-b9ea-414f-a1a4-fb8cfd09c151"
   },
   "outputs": [
    {
     "name": "stdout",
     "output_type": "stream",
     "text": [
      "720/720 [==============================] - 90s 125ms/step - loss: 1.0343 - accuracy: 0.8088\n",
      "Test Loss: 1.034346103668213\n",
      "Test Accuracy: 0.8087813854217529\n"
     ]
    }
   ],
   "source": [
    "test_loss, test_accuracy = Piczak_model_2.evaluate(test_dataset, verbose=1)\n",
    "print(f'Test Loss: {test_loss}')\n",
    "print(f'Test Accuracy: {test_accuracy}')"
   ]
  },
  {
   "cell_type": "markdown",
   "id": "6pItxSYNrZ-n",
   "metadata": {
    "id": "6pItxSYNrZ-n"
   },
   "source": [
    "We can see that our baseline model already performs quite well. A test accuracy of 0.8 for 10 species greatly outperforms our original model from MS4 (0.3 accuracy) due to the higher quality and amount of data."
   ]
  },
  {
   "cell_type": "markdown",
   "id": "c6rwrwYhsQrH",
   "metadata": {
    "id": "c6rwrwYhsQrH"
   },
   "source": []
  }
 ],
 "metadata": {
  "colab": {
   "provenance": []
  },
  "kernelspec": {
   "display_name": "Python 3 (ipykernel)",
   "language": "python",
   "name": "python3"
  },
  "language_info": {
   "codemirror_mode": {
    "name": "ipython",
    "version": 3
   },
   "file_extension": ".py",
   "mimetype": "text/x-python",
   "name": "python",
   "nbconvert_exporter": "python",
   "pygments_lexer": "ipython3",
   "version": "3.11.7"
  }
 },
 "nbformat": 4,
 "nbformat_minor": 5
}
