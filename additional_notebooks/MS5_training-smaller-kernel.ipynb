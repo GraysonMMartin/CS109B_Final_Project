{
 "cells": [
  {
   "cell_type": "code",
   "execution_count": 1,
   "id": "4d853479-edb1-4558-b27c-7a006d145905",
   "metadata": {
    "id": "4d853479-edb1-4558-b27c-7a006d145905",
    "outputId": "1b3431a2-a97c-41dd-a5ef-8c09ea9bc76a"
   },
   "outputs": [
    {
     "name": "stderr",
     "output_type": "stream",
     "text": [
      "2024-05-03 21:48:28.526916: I tensorflow/core/util/port.cc:113] oneDNN custom operations are on. You may see slightly different numerical results due to floating-point round-off errors from different computation orders. To turn them off, set the environment variable `TF_ENABLE_ONEDNN_OPTS=0`.\n",
      "2024-05-03 21:48:28.573127: E external/local_xla/xla/stream_executor/cuda/cuda_dnn.cc:9261] Unable to register cuDNN factory: Attempting to register factory for plugin cuDNN when one has already been registered\n",
      "2024-05-03 21:48:28.573174: E external/local_xla/xla/stream_executor/cuda/cuda_fft.cc:607] Unable to register cuFFT factory: Attempting to register factory for plugin cuFFT when one has already been registered\n",
      "2024-05-03 21:48:28.574361: E external/local_xla/xla/stream_executor/cuda/cuda_blas.cc:1515] Unable to register cuBLAS factory: Attempting to register factory for plugin cuBLAS when one has already been registered\n",
      "2024-05-03 21:48:28.581447: I tensorflow/core/platform/cpu_feature_guard.cc:182] This TensorFlow binary is optimized to use available CPU instructions in performance-critical operations.\n",
      "To enable the following instructions: AVX2 AVX512F AVX512_VNNI FMA, in other operations, rebuild TensorFlow with the appropriate compiler flags.\n",
      "/opt/conda/lib/python3.11/site-packages/tensorflow_addons/utils/tfa_eol_msg.py:23: UserWarning: \n",
      "\n",
      "TensorFlow Addons (TFA) has ended development and introduction of new features.\n",
      "TFA has entered a minimal maintenance and release mode until a planned end of life in May 2024.\n",
      "Please modify downstream libraries to take dependencies from other repositories in our TensorFlow community (e.g. Keras, Keras-CV, and Keras-NLP). \n",
      "\n",
      "For more information see: https://github.com/tensorflow/addons/issues/2807 \n",
      "\n",
      "  warnings.warn(\n"
     ]
    }
   ],
   "source": [
    "import os\n",
    "import pathlib\n",
    "import time\n",
    "import zipfile\n",
    "import tarfile\n",
    "\n",
    "import imageio\n",
    "from matplotlib import cm\n",
    "import matplotlib.pyplot as plt\n",
    "import numpy as np\n",
    "import pickle\n",
    "import time\n",
    "from PIL import Image\n",
    "import requests\n",
    "import scipy.ndimage as ndimage\n",
    "import tensorflow as tf\n",
    "import tensorflow_addons as tfa\n",
    "import tensorflow_datasets as tfds\n",
    "from tensorflow.keras.datasets import cifar10\n",
    "from tensorflow.keras.models import Sequential, Model\n",
    "from tensorflow.keras.layers import Activation, BatchNormalization\n",
    "from tensorflow.keras.layers import Conv2D, Dense, Dropout, GaussianNoise\n",
    "from tensorflow.keras.layers import Flatten, Input, MaxPooling2D, LeakyReLU\n",
    "from tensorflow.keras.optimizers import Adam, SGD\n",
    "from tensorflow.keras.regularizers import L1, L2\n",
    "from tensorflow.keras.callbacks import EarlyStopping, LambdaCallback, ModelCheckpoint\n",
    "from tensorflow.keras.utils import to_categorical\n",
    "from tf_keras_vis.gradcam import Gradcam\n",
    "from tf_keras_vis.saliency import Saliency\n",
    "from tf_keras_vis.utils import normalize\n",
    "import tqdm\n",
    "from sklearn.model_selection import train_test_split\n",
    "import pandas as pd"
   ]
  },
  {
   "cell_type": "code",
   "execution_count": 2,
   "id": "17849245-6935-4db8-b022-74a2b4acb53b",
   "metadata": {
    "scrolled": true
   },
   "outputs": [],
   "source": [
    "#!unzip -o ./tf_data.zip;\n"
   ]
  },
  {
   "cell_type": "code",
   "execution_count": 3,
   "id": "dd10f3c1-d55b-40af-82fe-556bc74047a9",
   "metadata": {
    "id": "dd10f3c1-d55b-40af-82fe-556bc74047a9"
   },
   "outputs": [],
   "source": [
    "working_dir = pathlib.Path().absolute()\n",
    "# Uncomment line below to debug if images don't show\n",
    "#print(working_dir)\n",
    "os.chdir(working_dir)\n"
   ]
  },
  {
   "cell_type": "code",
   "execution_count": 4,
   "id": "2363559a-d489-4fe7-9a61-682c162150fe",
   "metadata": {
    "id": "2363559a-d489-4fe7-9a61-682c162150fe",
    "outputId": "b988c8fa-348c-4d5b-af27-8a173a1f3655"
   },
   "outputs": [
    {
     "name": "stdout",
     "output_type": "stream",
     "text": [
      "tensorflow version 2.15.0\n",
      "Eager Execution Enabled: True\n",
      "\n",
      "All Devices: \n",
      "[PhysicalDevice(name='/physical_device:CPU:0', device_type='CPU'), PhysicalDevice(name='/physical_device:GPU:0', device_type='GPU')]\n",
      "\n",
      "Available GPUs: \n",
      "[LogicalDevice(name='/device:GPU:0', device_type='GPU')]\n",
      "\n"
     ]
    },
    {
     "name": "stderr",
     "output_type": "stream",
     "text": [
      "2024-05-03 21:48:31.833386: I external/local_xla/xla/stream_executor/cuda/cuda_executor.cc:901] successful NUMA node read from SysFS had negative value (-1), but there must be at least one NUMA node, so returning NUMA node zero. See more at https://github.com/torvalds/linux/blob/v6.0/Documentation/ABI/testing/sysfs-bus-pci#L344-L355\n",
      "2024-05-03 21:48:31.843336: I external/local_xla/xla/stream_executor/cuda/cuda_executor.cc:901] successful NUMA node read from SysFS had negative value (-1), but there must be at least one NUMA node, so returning NUMA node zero. See more at https://github.com/torvalds/linux/blob/v6.0/Documentation/ABI/testing/sysfs-bus-pci#L344-L355\n",
      "2024-05-03 21:48:31.846417: I external/local_xla/xla/stream_executor/cuda/cuda_executor.cc:901] successful NUMA node read from SysFS had negative value (-1), but there must be at least one NUMA node, so returning NUMA node zero. See more at https://github.com/torvalds/linux/blob/v6.0/Documentation/ABI/testing/sysfs-bus-pci#L344-L355\n",
      "2024-05-03 21:48:31.850426: I external/local_xla/xla/stream_executor/cuda/cuda_executor.cc:901] successful NUMA node read from SysFS had negative value (-1), but there must be at least one NUMA node, so returning NUMA node zero. See more at https://github.com/torvalds/linux/blob/v6.0/Documentation/ABI/testing/sysfs-bus-pci#L344-L355\n",
      "2024-05-03 21:48:31.853391: I external/local_xla/xla/stream_executor/cuda/cuda_executor.cc:901] successful NUMA node read from SysFS had negative value (-1), but there must be at least one NUMA node, so returning NUMA node zero. See more at https://github.com/torvalds/linux/blob/v6.0/Documentation/ABI/testing/sysfs-bus-pci#L344-L355\n",
      "2024-05-03 21:48:31.856190: I external/local_xla/xla/stream_executor/cuda/cuda_executor.cc:901] successful NUMA node read from SysFS had negative value (-1), but there must be at least one NUMA node, so returning NUMA node zero. See more at https://github.com/torvalds/linux/blob/v6.0/Documentation/ABI/testing/sysfs-bus-pci#L344-L355\n",
      "2024-05-03 21:48:32.061377: I external/local_xla/xla/stream_executor/cuda/cuda_executor.cc:901] successful NUMA node read from SysFS had negative value (-1), but there must be at least one NUMA node, so returning NUMA node zero. See more at https://github.com/torvalds/linux/blob/v6.0/Documentation/ABI/testing/sysfs-bus-pci#L344-L355\n",
      "2024-05-03 21:48:32.063193: I external/local_xla/xla/stream_executor/cuda/cuda_executor.cc:901] successful NUMA node read from SysFS had negative value (-1), but there must be at least one NUMA node, so returning NUMA node zero. See more at https://github.com/torvalds/linux/blob/v6.0/Documentation/ABI/testing/sysfs-bus-pci#L344-L355\n",
      "2024-05-03 21:48:32.065614: I external/local_xla/xla/stream_executor/cuda/cuda_executor.cc:901] successful NUMA node read from SysFS had negative value (-1), but there must be at least one NUMA node, so returning NUMA node zero. See more at https://github.com/torvalds/linux/blob/v6.0/Documentation/ABI/testing/sysfs-bus-pci#L344-L355\n",
      "2024-05-03 21:48:32.067265: I tensorflow/core/common_runtime/gpu/gpu_device.cc:1929] Created device /job:localhost/replica:0/task:0/device:GPU:0 with 13775 MB memory:  -> device: 0, name: Tesla T4, pci bus id: 0000:00:1e.0, compute capability: 7.5\n"
     ]
    }
   ],
   "source": [
    "# RUN THIS CELL\n",
    "\n",
    "# Enable/Disable Eager Execution\n",
    "# Reference: https://www.tensorflow.org/guide/eager\n",
    "# TensorFlow's eager execution is an imperative programming environment\n",
    "# that evaluates operations immediately, without building graphs\n",
    "\n",
    "print(f\"tensorflow version {tf.__version__}\")\n",
    "print(f\"Eager Execution Enabled: {tf.executing_eagerly()}\\n\")\n",
    "\n",
    "devices = tf.config.get_visible_devices()\n",
    "print(f\"All Devices: \\n{devices}\\n\")\n",
    "print(f\"Available GPUs: \\n{tf.config.list_logical_devices('GPU')}\\n\")\n",
    "\n",
    "# Better performance with the tf.data API\n",
    "# Reference: https://www.tensorflow.org/guide/data_performance\n",
    "AUTOTUNE = tf.data.AUTOTUNE\n",
    "\n",
    "tf.random.set_seed(2266)"
   ]
  },
  {
   "cell_type": "code",
   "execution_count": 5,
   "id": "56e370f2-ba73-4c22-b522-3907adc9a6c1",
   "metadata": {},
   "outputs": [
    {
     "data": {
      "text/html": [
       "<div>\n",
       "<style scoped>\n",
       "    .dataframe tbody tr th:only-of-type {\n",
       "        vertical-align: middle;\n",
       "    }\n",
       "\n",
       "    .dataframe tbody tr th {\n",
       "        vertical-align: top;\n",
       "    }\n",
       "\n",
       "    .dataframe thead th {\n",
       "        text-align: right;\n",
       "    }\n",
       "</style>\n",
       "<table border=\"1\" class=\"dataframe\">\n",
       "  <thead>\n",
       "    <tr style=\"text-align: right;\">\n",
       "      <th></th>\n",
       "      <th>Unnamed: 0</th>\n",
       "      <th>gbifID</th>\n",
       "      <th>references</th>\n",
       "      <th>basisOfRecord</th>\n",
       "      <th>sex</th>\n",
       "      <th>lifeStage</th>\n",
       "      <th>behavior</th>\n",
       "      <th>eventTime</th>\n",
       "      <th>month</th>\n",
       "      <th>continent</th>\n",
       "      <th>countryCode</th>\n",
       "      <th>verbatimElevation</th>\n",
       "      <th>decimalLatitude</th>\n",
       "      <th>decimalLongitude</th>\n",
       "      <th>mediaType</th>\n",
       "      <th>genus</th>\n",
       "      <th>species</th>\n",
       "    </tr>\n",
       "    <tr>\n",
       "      <th>catalogNumber</th>\n",
       "      <th></th>\n",
       "      <th></th>\n",
       "      <th></th>\n",
       "      <th></th>\n",
       "      <th></th>\n",
       "      <th></th>\n",
       "      <th></th>\n",
       "      <th></th>\n",
       "      <th></th>\n",
       "      <th></th>\n",
       "      <th></th>\n",
       "      <th></th>\n",
       "      <th></th>\n",
       "      <th></th>\n",
       "      <th></th>\n",
       "      <th></th>\n",
       "      <th></th>\n",
       "    </tr>\n",
       "  </thead>\n",
       "  <tbody>\n",
       "    <tr>\n",
       "      <th>XC361568</th>\n",
       "      <td>117</td>\n",
       "      <td>2243757996</td>\n",
       "      <td>https://data.biodiversitydata.nl/xeno-canto/ob...</td>\n",
       "      <td>HUMAN_OBSERVATION</td>\n",
       "      <td>NaN</td>\n",
       "      <td>NaN</td>\n",
       "      <td>flight call</td>\n",
       "      <td>6:07:00 PM</td>\n",
       "      <td>3.0</td>\n",
       "      <td>EUROPE</td>\n",
       "      <td>DE</td>\n",
       "      <td>260 m</td>\n",
       "      <td>48.9870</td>\n",
       "      <td>9.0108</td>\n",
       "      <td>Sound;StillImage;StillImage</td>\n",
       "      <td>Loxia</td>\n",
       "      <td>Loxia curvirostra</td>\n",
       "    </tr>\n",
       "    <tr>\n",
       "      <th>XC361676</th>\n",
       "      <td>122</td>\n",
       "      <td>2243757192</td>\n",
       "      <td>https://data.biodiversitydata.nl/xeno-canto/ob...</td>\n",
       "      <td>HUMAN_OBSERVATION</td>\n",
       "      <td>NaN</td>\n",
       "      <td>NaN</td>\n",
       "      <td>call</td>\n",
       "      <td>5:30:00 PM</td>\n",
       "      <td>3.0</td>\n",
       "      <td>EUROPE</td>\n",
       "      <td>GR</td>\n",
       "      <td>40 m</td>\n",
       "      <td>36.8217</td>\n",
       "      <td>21.9273</td>\n",
       "      <td>StillImage;StillImage;Sound</td>\n",
       "      <td>Sylvia</td>\n",
       "      <td>Sylvia atricapilla</td>\n",
       "    </tr>\n",
       "    <tr>\n",
       "      <th>XC361991</th>\n",
       "      <td>137</td>\n",
       "      <td>3909408313</td>\n",
       "      <td>https://data.biodiversitydata.nl/xeno-canto/ob...</td>\n",
       "      <td>HUMAN_OBSERVATION</td>\n",
       "      <td>NaN</td>\n",
       "      <td>NaN</td>\n",
       "      <td>call</td>\n",
       "      <td>10:00:00 AM</td>\n",
       "      <td>3.0</td>\n",
       "      <td>EUROPE</td>\n",
       "      <td>NL</td>\n",
       "      <td>0 m</td>\n",
       "      <td>52.3568</td>\n",
       "      <td>4.5675</td>\n",
       "      <td>StillImage;StillImage;Sound</td>\n",
       "      <td>Fringilla</td>\n",
       "      <td>Fringilla coelebs</td>\n",
       "    </tr>\n",
       "    <tr>\n",
       "      <th>XC362620</th>\n",
       "      <td>162</td>\n",
       "      <td>2243759376</td>\n",
       "      <td>https://data.biodiversitydata.nl/xeno-canto/ob...</td>\n",
       "      <td>HUMAN_OBSERVATION</td>\n",
       "      <td>NaN</td>\n",
       "      <td>NaN</td>\n",
       "      <td>call, sweeoo call</td>\n",
       "      <td>2:27:00 PM</td>\n",
       "      <td>4.0</td>\n",
       "      <td>EUROPE</td>\n",
       "      <td>DE</td>\n",
       "      <td>300 m</td>\n",
       "      <td>49.0102</td>\n",
       "      <td>8.8949</td>\n",
       "      <td>Sound;StillImage;StillImage</td>\n",
       "      <td>Phylloscopus</td>\n",
       "      <td>Phylloscopus collybita</td>\n",
       "    </tr>\n",
       "    <tr>\n",
       "      <th>XC363724</th>\n",
       "      <td>205</td>\n",
       "      <td>2243761271</td>\n",
       "      <td>https://data.biodiversitydata.nl/xeno-canto/ob...</td>\n",
       "      <td>HUMAN_OBSERVATION</td>\n",
       "      <td>NaN</td>\n",
       "      <td>NaN</td>\n",
       "      <td>call, imitation</td>\n",
       "      <td>7:30:00 AM</td>\n",
       "      <td>4.0</td>\n",
       "      <td>EUROPE</td>\n",
       "      <td>PL</td>\n",
       "      <td>160 m</td>\n",
       "      <td>53.1490</td>\n",
       "      <td>20.2591</td>\n",
       "      <td>Sound;StillImage;StillImage</td>\n",
       "      <td>Parus</td>\n",
       "      <td>Parus major</td>\n",
       "    </tr>\n",
       "  </tbody>\n",
       "</table>\n",
       "</div>"
      ],
      "text/plain": [
       "               Unnamed: 0      gbifID  \\\n",
       "catalogNumber                           \n",
       "XC361568              117  2243757996   \n",
       "XC361676              122  2243757192   \n",
       "XC361991              137  3909408313   \n",
       "XC362620              162  2243759376   \n",
       "XC363724              205  2243761271   \n",
       "\n",
       "                                                      references  \\\n",
       "catalogNumber                                                      \n",
       "XC361568       https://data.biodiversitydata.nl/xeno-canto/ob...   \n",
       "XC361676       https://data.biodiversitydata.nl/xeno-canto/ob...   \n",
       "XC361991       https://data.biodiversitydata.nl/xeno-canto/ob...   \n",
       "XC362620       https://data.biodiversitydata.nl/xeno-canto/ob...   \n",
       "XC363724       https://data.biodiversitydata.nl/xeno-canto/ob...   \n",
       "\n",
       "                   basisOfRecord  sex lifeStage           behavior  \\\n",
       "catalogNumber                                                        \n",
       "XC361568       HUMAN_OBSERVATION  NaN       NaN        flight call   \n",
       "XC361676       HUMAN_OBSERVATION  NaN       NaN               call   \n",
       "XC361991       HUMAN_OBSERVATION  NaN       NaN               call   \n",
       "XC362620       HUMAN_OBSERVATION  NaN       NaN  call, sweeoo call   \n",
       "XC363724       HUMAN_OBSERVATION  NaN       NaN    call, imitation   \n",
       "\n",
       "                 eventTime  month continent countryCode verbatimElevation  \\\n",
       "catalogNumber                                                               \n",
       "XC361568        6:07:00 PM    3.0    EUROPE          DE             260 m   \n",
       "XC361676        5:30:00 PM    3.0    EUROPE          GR              40 m   \n",
       "XC361991       10:00:00 AM    3.0    EUROPE          NL               0 m   \n",
       "XC362620        2:27:00 PM    4.0    EUROPE          DE             300 m   \n",
       "XC363724        7:30:00 AM    4.0    EUROPE          PL             160 m   \n",
       "\n",
       "               decimalLatitude  decimalLongitude                    mediaType  \\\n",
       "catalogNumber                                                                   \n",
       "XC361568               48.9870            9.0108  Sound;StillImage;StillImage   \n",
       "XC361676               36.8217           21.9273  StillImage;StillImage;Sound   \n",
       "XC361991               52.3568            4.5675  StillImage;StillImage;Sound   \n",
       "XC362620               49.0102            8.8949  Sound;StillImage;StillImage   \n",
       "XC363724               53.1490           20.2591  Sound;StillImage;StillImage   \n",
       "\n",
       "                      genus                 species  \n",
       "catalogNumber                                        \n",
       "XC361568              Loxia       Loxia curvirostra  \n",
       "XC361676             Sylvia      Sylvia atricapilla  \n",
       "XC361991          Fringilla       Fringilla coelebs  \n",
       "XC362620       Phylloscopus  Phylloscopus collybita  \n",
       "XC363724              Parus             Parus major  "
      ]
     },
     "execution_count": 5,
     "metadata": {},
     "output_type": "execute_result"
    }
   ],
   "source": [
    "df = pd.read_csv('data/undersampled_top_10.csv')\n",
    "X = []\n",
    "y = []\n",
    "df_efficient = df.set_index('catalogNumber')\n",
    "df_efficient.head(5)"
   ]
  },
  {
   "cell_type": "code",
   "execution_count": null,
   "id": "a1fdc3e1-498b-46a1-bd0e-bf71e8637b95",
   "metadata": {},
   "outputs": [],
   "source": [
    "\n",
    "test_dataset = tf.data.Dataset.load('tf_data/test_data')\n",
    "train_dataset = tf.data.Dataset.load('tf_data/train_data')\n",
    "val_dataset = tf.data.Dataset.load('tf_data/validation_data')"
   ]
  },
  {
   "cell_type": "code",
   "execution_count": 7,
   "id": "b49729a3-05e9-48ab-8440-67c3f4aad348",
   "metadata": {
    "id": "b49729a3-05e9-48ab-8440-67c3f4aad348"
   },
   "outputs": [],
   "source": [
    "def normalize_image(img):\n",
    "    return tf.cast(img, tf.float32)/255.\n",
    "\n",
    "def preprocess(img, label):\n",
    "    return normalize_image(img), label\n",
    "\n",
    "train_dataset = train_dataset.map(preprocess).batch(32).prefetch(tf.data.experimental.AUTOTUNE)\n",
    "val_dataset = val_dataset.map(preprocess).batch(32).prefetch(tf.data.experimental.AUTOTUNE)\n",
    "test_dataset = test_dataset.map(preprocess).batch(32).prefetch(tf.data.experimental.AUTOTUNE)"
   ]
  },
  {
   "cell_type": "code",
   "execution_count": 8,
   "id": "e49a5dca-e56d-4383-b511-de3a8e86c950",
   "metadata": {
    "id": "e49a5dca-e56d-4383-b511-de3a8e86c950",
    "outputId": "08b6740b-bab7-45c8-a91c-90a0465a6674"
   },
   "outputs": [
    {
     "name": "stdout",
     "output_type": "stream",
     "text": [
      "Model: \"sequential\"\n",
      "_________________________________________________________________\n",
      " Layer (type)                Output Shape              Param #   \n",
      "=================================================================\n",
      " conv2d (Conv2D)             (None, 128, 431, 80)      60080     \n",
      "                                                                 \n",
      " leaky_re_lu (LeakyReLU)     (None, 128, 431, 80)      0         \n",
      "                                                                 \n",
      " max_pooling2d (MaxPooling2  (None, 32, 71, 80)        0         \n",
      " D)                                                              \n",
      "                                                                 \n",
      " conv2d_1 (Conv2D)           (None, 32, 71, 160)       25760     \n",
      "                                                                 \n",
      " leaky_re_lu_1 (LeakyReLU)   (None, 32, 71, 160)       0         \n",
      "                                                                 \n",
      " max_pooling2d_1 (MaxPoolin  (None, 32, 35, 160)       0         \n",
      " g2D)                                                            \n",
      "                                                                 \n",
      " conv2d_2 (Conv2D)           (None, 32, 35, 240)       77040     \n",
      "                                                                 \n",
      " leaky_re_lu_2 (LeakyReLU)   (None, 32, 35, 240)       0         \n",
      "                                                                 \n",
      " max_pooling2d_2 (MaxPoolin  (None, 32, 17, 240)       0         \n",
      " g2D)                                                            \n",
      "                                                                 \n",
      " conv2d_3 (Conv2D)           (None, 32, 17, 320)       153920    \n",
      "                                                                 \n",
      " leaky_re_lu_3 (LeakyReLU)   (None, 32, 17, 320)       0         \n",
      "                                                                 \n",
      " max_pooling2d_3 (MaxPoolin  (None, 32, 8, 320)        0         \n",
      " g2D)                                                            \n",
      "                                                                 \n",
      " flatten (Flatten)           (None, 81920)             0         \n",
      "                                                                 \n",
      " dropout (Dropout)           (None, 81920)             0         \n",
      "                                                                 \n",
      " dense (Dense)               (None, 10)                819210    \n",
      "                                                                 \n",
      "=================================================================\n",
      "Total params: 1136010 (4.33 MB)\n",
      "Trainable params: 1136010 (4.33 MB)\n",
      "Non-trainable params: 0 (0.00 Byte)\n",
      "_________________________________________________________________\n"
     ]
    }
   ],
   "source": [
    "Piczak_model_2 = Sequential([\n",
    "    # First convolutional layer with 80 filters\n",
    "    Conv2D(80, kernel_size=(125, 6), padding='same', input_shape=(128, 431, 1)),\n",
    "    LeakyReLU(alpha=0.3),\n",
    "\n",
    "    # Max pooling\n",
    "    MaxPooling2D(pool_size=(4, 6)),\n",
    "\n",
    "    # Second convolutional layer with 160 filters\n",
    "    Conv2D(160, kernel_size=(1, 2), padding='same'),\n",
    "    LeakyReLU(alpha=0.3),\n",
    "\n",
    "    # Max pooling\n",
    "    MaxPooling2D(pool_size=(1, 2)),\n",
    "\n",
    "    # Continue the pattern...\n",
    "    Conv2D(240, kernel_size=(1, 2), padding='same'),\n",
    "    LeakyReLU(alpha=0.3),\n",
    "    MaxPooling2D(pool_size=(1, 2)),\n",
    "\n",
    "    Conv2D(320, kernel_size=(1, 2), padding='same'),\n",
    "    LeakyReLU(alpha=0.3),\n",
    "    MaxPooling2D(pool_size=(1, 2)),\n",
    "\n",
    "    # Flatten the output of the conv layers to connect it with dense layers\n",
    "    Flatten(),\n",
    "\n",
    "    # Dropout layer\n",
    "    Dropout(0.5),\n",
    "\n",
    "    # Output layer with softmax activation\n",
    "    Dense(10, activation='softmax', kernel_regularizer=L2(0.001))\n",
    "])\n",
    "\n",
    "Piczak_model_2.summary()"
   ]
  },
  {
   "cell_type": "markdown",
   "id": "26b05567",
   "metadata": {},
   "source": [
    "This model has the same architecture as the baseline, but with the hypothesis that not letting the kernel move at all vertically (in the frequency direction) might be too restrictive; by letting the kernel move a little bit vertically, this would capture the intuition that a call that is only a few hertz away from another but with the same shape is likely the same bird. We still have the same depth as the baseline model. "
   ]
  },
  {
   "cell_type": "code",
   "execution_count": 9,
   "id": "3fa667e5-cae7-4204-ba24-c1677287ec17",
   "metadata": {
    "id": "3fa667e5-cae7-4204-ba24-c1677287ec17",
    "outputId": "99ecfa49-f431-4920-9add-7c307c8a4ab5"
   },
   "outputs": [
    {
     "name": "stdout",
     "output_type": "stream",
     "text": [
      "Epoch 1/20\n"
     ]
    },
    {
     "name": "stderr",
     "output_type": "stream",
     "text": [
      "2024-05-03 21:48:34.613077: I external/local_xla/xla/stream_executor/cuda/cuda_dnn.cc:454] Loaded cuDNN version 8906\n",
      "2024-05-03 21:48:34.889305: I external/local_tsl/tsl/platform/default/subprocess.cc:304] Start cannot spawn child process: No such file or directory\n",
      "2024-05-03 21:48:36.313649: I external/local_tsl/tsl/platform/default/subprocess.cc:304] Start cannot spawn child process: No such file or directory\n",
      "2024-05-03 21:48:36.988232: I external/local_xla/xla/service/service.cc:168] XLA service 0x561804206a60 initialized for platform CUDA (this does not guarantee that XLA will be used). Devices:\n",
      "2024-05-03 21:48:36.988276: I external/local_xla/xla/service/service.cc:176]   StreamExecutor device (0): Tesla T4, Compute Capability 7.5\n",
      "2024-05-03 21:48:36.994387: I tensorflow/compiler/mlir/tensorflow/utils/dump_mlir_util.cc:269] disabling MLIR crash reproducer, set env var `MLIR_CRASH_REPRODUCER_DIRECTORY` to enable.\n",
      "WARNING: All log messages before absl::InitializeLog() is called are written to STDERR\n",
      "I0000 00:00:1714772917.101101    3142 device_compiler.h:186] Compiled cluster using XLA!  This line is logged at most once for the lifetime of the process.\n"
     ]
    },
    {
     "name": "stdout",
     "output_type": "stream",
     "text": [
      "2303/2303 [==============================] - 585s 251ms/step - loss: 1.3626 - accuracy: 0.6197 - val_loss: 1.1513 - val_accuracy: 0.7120\n",
      "Epoch 2/20\n",
      "2303/2303 [==============================] - 577s 251ms/step - loss: 1.1077 - accuracy: 0.7418 - val_loss: 1.0591 - val_accuracy: 0.7612\n",
      "Epoch 3/20\n",
      "2303/2303 [==============================] - 578s 251ms/step - loss: 1.0475 - accuracy: 0.7691 - val_loss: 0.9635 - val_accuracy: 0.8008\n",
      "Epoch 4/20\n",
      "2303/2303 [==============================] - 577s 250ms/step - loss: 1.0157 - accuracy: 0.7858 - val_loss: 0.9927 - val_accuracy: 0.8019\n",
      "Epoch 5/20\n",
      "2303/2303 [==============================] - 576s 250ms/step - loss: 1.0048 - accuracy: 0.7960 - val_loss: 0.9931 - val_accuracy: 0.8102\n",
      "Epoch 6/20\n",
      "2303/2303 [==============================] - 575s 250ms/step - loss: 0.9928 - accuracy: 0.8037 - val_loss: 1.0144 - val_accuracy: 0.8000\n"
     ]
    }
   ],
   "source": [
    "Piczak_model_2.compile(optimizer='adam', loss='categorical_crossentropy', metrics=['accuracy'])\n",
    "es = EarlyStopping(monitor=\"val_loss\", patience=3)\n",
    "history = Piczak_model_2.fit(train_dataset, epochs=20, validation_data = val_dataset, callbacks=[es])\n"
   ]
  },
  {
   "cell_type": "code",
   "execution_count": 10,
   "id": "1ecf8f78-3221-4bfd-92f8-e17fba6a302a",
   "metadata": {},
   "outputs": [],
   "source": [
    "Piczak_model_2.save_weights('smaller_kernel.h5')\n",
    "with open('smaller_kernel', 'wb') as file_pi:\n",
    "    pickle.dump(history, file_pi)"
   ]
  },
  {
   "cell_type": "code",
   "execution_count": 11,
   "id": "3f646fe6-d976-4fdf-9b4e-80d1dee6d527",
   "metadata": {
    "id": "3f646fe6-d976-4fdf-9b4e-80d1dee6d527"
   },
   "outputs": [],
   "source": [
    "def plot_hist(model, title=None):\n",
    "    fig, axs = plt.subplots(1,2, figsize=(12,5))\n",
    "    axs[0].plot(model.history['loss'], label='train')\n",
    "    axs[0].plot(model.history['val_loss'], label='val')\n",
    "    axs[0].set_xlabel('Epoch')\n",
    "    axs[0].set_ylabel('CE Loss')\n",
    "    axs[0].set_title('Loss')\n",
    "    axs[0].legend()\n",
    "    axs[1].plot(model.history['accuracy'], label='train')\n",
    "    axs[1].plot(model.history['val_accuracy'], label='val')\n",
    "    axs[1].set_title('Accuracy')\n",
    "    axs[1].legend()\n",
    "    axs[1].set_xlabel('Epoch')\n",
    "    axs[1].set_ylabel('ACC')\n",
    "    plt.suptitle(title)"
   ]
  },
  {
   "cell_type": "code",
   "execution_count": 12,
   "id": "be88462c-806c-4eeb-bd7c-c618ffe3991d",
   "metadata": {
    "id": "be88462c-806c-4eeb-bd7c-c618ffe3991d",
    "outputId": "2793d787-77aa-44f9-a82e-16c8f098e6c5"
   },
   "outputs": [
    {
     "data": {
      "image/png": "[encoded data removed]",
      "text/plain": [
       "<Figure size 1200x500 with 2 Axes>"
      ]
     },
     "metadata": {},
     "output_type": "display_data"
    }
   ],
   "source": [
    "plot_hist(history)"
   ]
  },
  {
   "cell_type": "markdown",
   "id": "d9b7e18b",
   "metadata": {},
   "source": [
    "We can see that we overfit at epoch 3, so training completes very quickly. The validation accuracy hovers around 0.8, similarly to the baseline."
   ]
  },
  {
   "cell_type": "code",
   "execution_count": 13,
   "id": "53a679fc-92fd-43d5-aaa4-51b93ea29c1e",
   "metadata": {
    "id": "53a679fc-92fd-43d5-aaa4-51b93ea29c1e",
    "outputId": "762a2904-b9ea-414f-a1a4-fb8cfd09c151"
   },
   "outputs": [
    {
     "name": "stdout",
     "output_type": "stream",
     "text": [
      "720/720 [==============================] - 88s 122ms/step - loss: 1.0112 - accuracy: 0.8038\n",
      "Test Loss: 1.0111855268478394\n",
      "Test Accuracy: 0.8037870526313782\n"
     ]
    }
   ],
   "source": [
    "test_loss, test_accuracy = Piczak_model_2.evaluate(test_dataset, verbose=1)\n",
    "print(f'Test Loss: {test_loss}')\n",
    "print(f'Test Accuracy: {test_accuracy}')"
   ]
  },
  {
   "cell_type": "markdown",
   "id": "6pItxSYNrZ-n",
   "metadata": {
    "id": "6pItxSYNrZ-n"
   },
   "source": [
    "Our model performs pretty much as well as the baseline model, but not significantly better. Thus, it seems like our original baseline model already allows for some variation within the frequency domain, or the variation in the frequency domain is typically negligible/subsumed by learning other features. "
   ]
  },
  {
   "cell_type": "markdown",
   "id": "c6rwrwYhsQrH",
   "metadata": {
    "id": "c6rwrwYhsQrH"
   },
   "source": []
  }
 ],
 "metadata": {
  "colab": {
   "provenance": []
  },
  "kernelspec": {
   "display_name": "Python 3 (ipykernel)",
   "language": "python",
   "name": "python3"
  },
  "language_info": {
   "codemirror_mode": {
    "name": "ipython",
    "version": 3
   },
   "file_extension": ".py",
   "mimetype": "text/x-python",
   "name": "python",
   "nbconvert_exporter": "python",
   "pygments_lexer": "ipython3",
   "version": "3.11.7"
  }
 },
 "nbformat": 4,
 "nbformat_minor": 5
}
